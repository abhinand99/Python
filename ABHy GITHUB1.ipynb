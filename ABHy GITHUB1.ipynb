{
 "cells": [
  {
   "cell_type": "code",
   "execution_count": null,
   "id": "80cfffcf",
   "metadata": {},
   "outputs": [],
   "source": [
    "\"\"\"Write a program to accept percentage from the user and display the grade according to the following criteria:\n",
    "\n",
    "         Marks                                    Grade\n",
    "         > 90                                        A\n",
    "         > 80 and <= 90                              B\n",
    "         >= 60 and <= 80                             C\n",
    "         below 60                                    D\n",
    "\"\"\"\n",
    "\n",
    "\n",
    "\n",
    "\n"
   ]
  },
  {
   "cell_type": "code",
   "execution_count": 2,
   "id": "32ce1d65",
   "metadata": {},
   "outputs": [
    {
     "name": "stdout",
     "output_type": "stream",
     "text": [
      "Enter your percentage :98\n",
      "You got A\n"
     ]
    }
   ],
   "source": [
    "x=int(input(\"Enter your percentage :\"))\n",
    "if x>90:\n",
    "    print(\"You got A\")\n",
    "elif x>80 and x<=90:\n",
    "    print(\"You got B\")\n",
    "elif x>=60 and x<=80:\n",
    "    print(\"You got C\")\n",
    "elif x<60:\n",
    "    print(\"You got D\")\n",
    "else:\n",
    "    print(\"YOu failed\")"
   ]
  },
  {
   "cell_type": "code",
   "execution_count": null,
   "id": "09f811cd",
   "metadata": {},
   "outputs": [],
   "source": [
    "\n",
    "\n",
    "\n",
    "\n",
    "\n",
    "\"\"\"Q2. Write a program to accept the cost price of a bike and display the road tax to be paid according to the following criteria :\n",
    "    \n",
    "        Cost price (in Rs)                                       Tax\n",
    "        > 100000                                                  15 %\n",
    "        > 50000 and <= 100000                                     10%\n",
    "        <= 50000                                                   5% \"\"\"\n",
    "\n",
    "\n",
    "\n",
    "\n"
   ]
  },
  {
   "cell_type": "code",
   "execution_count": 3,
   "id": "d879ccf6",
   "metadata": {},
   "outputs": [
    {
     "name": "stdout",
     "output_type": "stream",
     "text": [
      "Enter the price of bike50000\n",
      "Tax to be paid  2500.0\n"
     ]
    }
   ],
   "source": [
    "tax = 0\n",
    "pr=int(input(\"Enter the price of bike\"))\n",
    "if pr > 100000:\n",
    "     tax = 15/100*pr\n",
    "elif pr >50000 and pr <=100000:\n",
    "     tax = 10/100*pr\n",
    "else:\n",
    "     tax = 5/100*pr\n",
    "print(\"Tax to be paid \",tax)"
   ]
  },
  {
   "cell_type": "code",
   "execution_count": null,
   "id": "d708f9de",
   "metadata": {},
   "outputs": [],
   "source": [
    "\n",
    "\n",
    "\n",
    "\n",
    "\n",
    "\n",
    "\n",
    "\"\"\"Write a program to check whether a person is eligible for voting or not. (accept age from user)\"\"\"\n",
    "\n",
    "\n",
    "\n",
    "\n",
    "\n"
   ]
  },
  {
   "cell_type": "code",
   "execution_count": 4,
   "id": "5663c27d",
   "metadata": {},
   "outputs": [
    {
     "name": "stdout",
     "output_type": "stream",
     "text": [
      "Enter you age : 19\n",
      "Eligible for voting \n"
     ]
    }
   ],
   "source": [
    "x=int((input(\"Enter you age : \")))\n",
    "if (x>=18):\n",
    "      print(\"Eligible for voting \")\n",
    "else:\n",
    "      print(\"Not eligible\")"
   ]
  },
  {
   "cell_type": "code",
   "execution_count": null,
   "id": "7bd96979",
   "metadata": {},
   "outputs": [],
   "source": [
    "\n",
    "\n",
    "\n",
    "\"\"\"Write a program to check whether a number entered by user is even or odd.\"\"\"\n",
    "\n",
    "\n",
    "\n"
   ]
  },
  {
   "cell_type": "code",
   "execution_count": 15,
   "id": "210bbe30",
   "metadata": {},
   "outputs": [
    {
     "name": "stdout",
     "output_type": "stream",
     "text": [
      "Enter a number :22\n",
      "The number 22 is even\n"
     ]
    }
   ],
   "source": [
    "x=int(input(\"Enter a number :\"))\n",
    "if x%2==0: \n",
    "    print(\"The number\",x,\"is even\")\n",
    "else:\n",
    "    print(\"The number\",x,\"is odd\") "
   ]
  },
  {
   "cell_type": "code",
   "execution_count": null,
   "id": "25a586dc",
   "metadata": {},
   "outputs": [],
   "source": [
    "\n",
    "\n",
    "\n",
    "\n",
    "\n",
    "\n",
    "\n",
    "\"\"\"Write a program to check whether a number is divisible by 7 or not.\"\"\"\n",
    "\n",
    "\n",
    "\n",
    "\n",
    "\n",
    "\n"
   ]
  },
  {
   "cell_type": "code",
   "execution_count": 5,
   "id": "787c940a",
   "metadata": {},
   "outputs": [
    {
     "name": "stdout",
     "output_type": "stream",
     "text": [
      "Enter a Number :49\n",
      "The number  49 is divisible by 7\n"
     ]
    }
   ],
   "source": [
    "x=int(input(\"Enter a Number :\"))\n",
    "if x%7==0:\n",
    "    print(\"The number \",x,\"is divisible by 7\")\n",
    "else:\n",
    "    print(\"The number\",x,\"is not divisible by 7\")"
   ]
  },
  {
   "cell_type": "code",
   "execution_count": null,
   "id": "877d47cf",
   "metadata": {},
   "outputs": [],
   "source": [
    "\n",
    "\n",
    "\n",
    "\n",
    "\n",
    "\n",
    "\n",
    "\"\"\" Write a program to display \"Hello\" if a number entered by user is a multiple of five , \n",
    "otherwise print \"Bye\".\"\"\"\n",
    "\n",
    "\n",
    "\n",
    "\n",
    "\n"
   ]
  },
  {
   "cell_type": "code",
   "execution_count": 6,
   "id": "2c504ac2",
   "metadata": {},
   "outputs": [
    {
     "name": "stdout",
     "output_type": "stream",
     "text": [
      "Enter a number :50\n",
      "Hello\n"
     ]
    }
   ],
   "source": [
    "x=int(input(\"Enter a number :\"))\n",
    "if x%5==0: \n",
    "    print(\"Hello\")\n",
    "else:\n",
    "    print(\"Bye\") "
   ]
  },
  {
   "cell_type": "code",
   "execution_count": null,
   "id": "f9b7de7c",
   "metadata": {},
   "outputs": [],
   "source": [
    "\n",
    "\n",
    "\n",
    "\n",
    "\n",
    "\n",
    "\n",
    "\"\"\"Write a program to calculate the electricity bill (accept number of unit from user) according to the following criteria :\n",
    "             Unit                                                     Price  \n",
    "First 100 units                                               no charge\n",
    "Next 100 units                                              Rs 5 per unit\n",
    "After 200 units                                             Rs 10 per unit\n",
    "(For example if input unit is 350 than total bill amount is Rs2000)\"\"\"\n",
    "\n",
    "\n",
    "\n",
    "\n",
    "\n",
    "\n"
   ]
  },
  {
   "cell_type": "code",
   "execution_count": 9,
   "id": "da8c3ede",
   "metadata": {},
   "outputs": [
    {
     "name": "stdout",
     "output_type": "stream",
     "text": [
      "Enter number of electric unit400\n",
      "Bill : 2500\n"
     ]
    }
   ],
   "source": [
    "x=0\n",
    "y=int(input(\"Enter number of electric unit\"))\n",
    "if y<=100:\n",
    "     x=0\n",
    "if y>100 and y<=200:\n",
    "     x=(y-100)*5\n",
    "if y>=200:\n",
    "     x=500+(y-200)*10\n",
    "print(\"Bill :\",x)\n"
   ]
  },
  {
   "cell_type": "code",
   "execution_count": null,
   "id": "673265fd",
   "metadata": {},
   "outputs": [],
   "source": [
    "\n",
    "\n",
    "\n",
    "\n",
    "\n",
    "\n",
    "\n",
    "\"\"\"Write a program to display the last digit of a number.\n",
    "(hint : any number % 10 will return the last digit)\"\"\"\n",
    "\n",
    "\n",
    "\n",
    "\n",
    "\n"
   ]
  },
  {
   "cell_type": "code",
   "execution_count": 10,
   "id": "f7b220da",
   "metadata": {},
   "outputs": [
    {
     "name": "stdout",
     "output_type": "stream",
     "text": [
      "Enter a number :512515256\n",
      "Last digit of number is  6\n"
     ]
    }
   ],
   "source": [
    "x=int(input(\"Enter a number :\"))\n",
    "s=x%10\n",
    "print(\"Last digit of number is \",s)"
   ]
  },
  {
   "cell_type": "code",
   "execution_count": null,
   "id": "52ab24c2",
   "metadata": {},
   "outputs": [],
   "source": [
    "\n",
    "\n",
    "\n",
    "\n",
    "\n",
    "\"\"\"Q10. Write a program to check whether the last digit of a number( entered by user ) is \n",
    "divisible by 3 or not.\"\"\"\n",
    "\n",
    "\n",
    "\n",
    "\n"
   ]
  },
  {
   "cell_type": "code",
   "execution_count": 13,
   "id": "b78bd1f6",
   "metadata": {},
   "outputs": [
    {
     "name": "stdout",
     "output_type": "stream",
     "text": [
      "Enter a num :22\n",
      "it is not divisible by 3\n"
     ]
    }
   ],
   "source": [
    "x=int(input(\"Enter a num :\"))\n",
    "y=x%10\n",
    "if y%3==0: \n",
    "    print(\"it is divisible by 3\")\n",
    "else:\n",
    "    print(\"it is not divisible by 3\")"
   ]
  },
  {
   "cell_type": "code",
   "execution_count": null,
   "id": "f0008dea",
   "metadata": {},
   "outputs": [],
   "source": []
  }
 ],
 "metadata": {
  "kernelspec": {
   "display_name": "Python 3 (ipykernel)",
   "language": "python",
   "name": "python3"
  },
  "language_info": {
   "codemirror_mode": {
    "name": "ipython",
    "version": 3
   },
   "file_extension": ".py",
   "mimetype": "text/x-python",
   "name": "python",
   "nbconvert_exporter": "python",
   "pygments_lexer": "ipython3",
   "version": "3.9.12"
  }
 },
 "nbformat": 4,
 "nbformat_minor": 5
}
