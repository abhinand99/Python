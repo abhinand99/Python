{
 "cells": [
  {
   "cell_type": "code",
   "execution_count": 1,
   "id": "20ee5057",
   "metadata": {},
   "outputs": [
    {
     "name": "stdout",
     "output_type": "stream",
     "text": [
      "Enter a Sequence : asdfghj\n",
      "AsDfGhJ"
     ]
    }
   ],
   "source": [
    "y=input(\"Enter a Sequence : \" )\n",
    "x=0\n",
    "z=len(y)\n",
    "while x<z:\n",
    "    if x%2==0 :\n",
    "        print(y[x].upper(),end=\"\")\n",
    "    else:\n",
    "        print(y[x],end=\"\")\n",
    "    x=x+1\n",
    "    "
   ]
  },
  {
   "cell_type": "code",
   "execution_count": 2,
   "id": "00f045ce",
   "metadata": {},
   "outputs": [
    {
     "name": "stdout",
     "output_type": "stream",
     "text": [
      "<class 'str'>\n",
      "<class 'float'>\n",
      "<class 'int'>\n",
      "<class 'str'>\n",
      "<class 'complex'>\n"
     ]
    }
   ],
   "source": [
    "y=[\"a\",1.2,302,\"abc\",1+2j]\n",
    "x=0\n",
    "z=len(y)\n",
    "while x<z:\n",
    "    print(type(y[x]))\n",
    "    x=x+1"
   ]
  },
  {
   "cell_type": "code",
   "execution_count": 3,
   "id": "95eb2cd7",
   "metadata": {},
   "outputs": [
    {
     "name": "stdout",
     "output_type": "stream",
     "text": [
      "abde10\n"
     ]
    }
   ],
   "source": [
    "y=[\"a\",\"b\",1,2,3,\"d\",\"e\",4]\n",
    "x=0\n",
    "c=0\n",
    "z=len(y)\n",
    "while x<z:\n",
    "    if  type(y[x])==str:\n",
    "        print(y[x],end=\"\")    \n",
    "    x=x+1\n",
    "c=y[2]+y[3]+y[4]+y[-1] \n",
    "print(c)"
   ]
  },
  {
   "cell_type": "code",
   "execution_count": null,
   "id": "fde3a554",
   "metadata": {},
   "outputs": [
    {
     "name": "stdout",
     "output_type": "stream",
     "text": [
      "Enter first number... 8\n",
      "Enter an Operation... +\n",
      "Enter second number... 2\n",
      "10.0\n"
     ]
    }
   ],
   "source": [
    "\n",
    "while True:\n",
    "    num1 = float(input(\"Enter first number... \"))\n",
    "    op = input(\"Enter an Operation... \")\n",
    "    num2 = float(input(\"Enter second number... \"))\n",
    "    \n",
    "\n",
    "\n",
    "    if op == (\"+\"):\n",
    "        print(num1+num2)\n",
    "    if op == (\"-\"):\n",
    "        print(num1-num2)\n",
    "    if op == (\"*\"):\n",
    "        print(num1 * num2)\n",
    "    if op == (\"/\"):\n",
    "        print(num1/num2)"
   ]
  },
  {
   "cell_type": "code",
   "execution_count": 2,
   "id": "bc547108",
   "metadata": {},
   "outputs": [
    {
     "name": "stdout",
     "output_type": "stream",
     "text": [
      "1 3 a "
     ]
    }
   ],
   "source": [
    "a=[1,2,3,\"a\",\"b\"]\n",
    "b=[6,1,3,\"a\",\"d\"]\n",
    "i=0\n",
    "r=[]\n",
    "while(i<len(a)):\n",
    "    j=0\n",
    "    \n",
    "    while(j<len(b)):\n",
    "        if a[i]==b[j]:\n",
    "            print(a[i],end=\" \")\n",
    "        \n",
    "        j=j+1\n",
    "    i=i+1\n"
   ]
  },
  {
   "cell_type": "code",
   "execution_count": null,
   "id": "67cd32ec",
   "metadata": {},
   "outputs": [],
   "source": []
  }
 ],
 "metadata": {
  "kernelspec": {
   "display_name": "Python 3 (ipykernel)",
   "language": "python",
   "name": "python3"
  },
  "language_info": {
   "codemirror_mode": {
    "name": "ipython",
    "version": 3
   },
   "file_extension": ".py",
   "mimetype": "text/x-python",
   "name": "python",
   "nbconvert_exporter": "python",
   "pygments_lexer": "ipython3",
   "version": "3.9.12"
  }
 },
 "nbformat": 4,
 "nbformat_minor": 5
}
